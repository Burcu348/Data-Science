{
 "cells": [
  {
   "cell_type": "markdown",
   "id": "cb1ed337-c726-48b4-94bb-a8b811b005b1",
   "metadata": {},
   "source": [
    "### End-to-End Diabetes Machine Learning Pipeline III"
   ]
  },
  {
   "cell_type": "code",
   "execution_count": 3,
   "id": "b1cde958-fa80-4c74-b4bb-e6e8ba1352f9",
   "metadata": {},
   "outputs": [],
   "source": [
    "import joblib\n",
    "import pandas as pd\n",
    "\n",
    "df = pd.read_csv(\"C:\\\\Users\\\\Monster\\\\Desktop\\\\dataa\\\\csv_files\\\\diabetes.csv\")\n",
    "\n",
    "random_user = df.sample(1, random_state=45)\n",
    "\n",
    "new_model = joblib.load(\"voting_clf.pkl\")\n",
    "\n",
    "#new_model.predict(random_user)\n",
    "# bu şekilde tahmin yapmaya çalışırsak boyut hatası verecektir çünkü bizim son olarak kaydettiğimiz modelde birçok işlem yapıldı\n",
    "# yeni değişkenler eklendi dolayısıyla önce veriyi preprocess etmemiz gerekir"
   ]
  },
  {
   "cell_type": "code",
   "execution_count": 6,
   "id": "cfb5158b-0bf5-4da4-a029-42e9256a0c6f",
   "metadata": {},
   "outputs": [
    {
     "name": "stderr",
     "output_type": "stream",
     "text": [
      "<string>:79: FutureWarning: Setting an item of incompatible dtype is deprecated and will raise in a future error of pandas. Value '-190.875' has dtype incompatible with int64, please explicitly cast to a compatible dtype first.\n"
     ]
    },
    {
     "data": {
      "text/plain": [
       "array([0], dtype=int64)"
      ]
     },
     "execution_count": 6,
     "metadata": {},
     "output_type": "execute_result"
    }
   ],
   "source": [
    "# pycharm gibi python dosyalarını aynı dizin altında toplayabildiğimiz Ide'lerde aşağıdaki komut geçerlidir\n",
    "# from diabetes_pipeline import diabetes_data_prep\n",
    "\n",
    "# başka bir jupyter notebooku içeri aktarıp ordaki fonksiyonları kullanmak için\n",
    "import import_ipynb\n",
    "from diabetes_pipeline import diabetes_data_prep\n",
    "\n",
    "\n",
    "X, y = diabetes_data_prep(df)\n",
    "\n",
    "random_user = X.sample(1, random_state=50)\n",
    "\n",
    "new_model = joblib.load(\"voting_clf.pkl\")\n",
    "\n",
    "new_model.predict(random_user)"
   ]
  },
  {
   "cell_type": "code",
   "execution_count": null,
   "id": "234339d3-1947-45ad-9274-6f1cbe34c58b",
   "metadata": {},
   "outputs": [],
   "source": []
  }
 ],
 "metadata": {
  "kernelspec": {
   "display_name": "Python 3 (ipykernel)",
   "language": "python",
   "name": "python3"
  },
  "language_info": {
   "codemirror_mode": {
    "name": "ipython",
    "version": 3
   },
   "file_extension": ".py",
   "mimetype": "text/x-python",
   "name": "python",
   "nbconvert_exporter": "python",
   "pygments_lexer": "ipython3",
   "version": "3.11.7"
  }
 },
 "nbformat": 4,
 "nbformat_minor": 5
}
