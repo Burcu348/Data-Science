{
 "cells": [
  {
   "cell_type": "markdown",
   "id": "4aedb9ef-c72e-4a2f-bc86-f0b3a3d84894",
   "metadata": {},
   "source": [
    "### Autoencoders Project with Fashion-MNIST Dataset"
   ]
  },
  {
   "cell_type": "markdown",
   "id": "459a78e4-0935-480d-8883-c0ff15fff1bf",
   "metadata": {},
   "source": [
    "#### 1. Business Problem:"
   ]
  },
  {
   "cell_type": "markdown",
   "id": "cb72cc44-0daf-4133-bbe7-f8996a718db0",
   "metadata": {},
   "source": [
    "- Fashion-MNIST is a dataset of Zalando's article images consisting of a training set of 60,000 examples and a test set of 10,000 examples. Each example is a 28x28 grayscale image, associated with a label from 10 classes."
   ]
  },
  {
   "cell_type": "markdown",
   "id": "5746e05b-e92e-4f40-ab69-88b9b756c0a0",
   "metadata": {},
   "source": [
    "#### 2. Data Understanding:"
   ]
  },
  {
   "cell_type": "code",
   "execution_count": 1,
   "id": "20446993-f3ec-477e-ab16-c611fabdf8a5",
   "metadata": {},
   "outputs": [],
   "source": [
    "import numpy as np\n",
    "import matplotlib.pyplot as plt\n",
    "\n",
    "from tensorflow.keras.datasets import fashion_mnist\n",
    "from tensorflow.keras.models import Model\n",
    "from tensorflow.keras.layers import Input, Dense\n",
    "from tensorflow.keras.optimizers import Adam"
   ]
  },
  {
   "cell_type": "code",
   "execution_count": 2,
   "id": "69aa180a-a27f-4949-8fcf-59e6a645c9ea",
   "metadata": {},
   "outputs": [],
   "source": [
    "# load data \n",
    "# etiketlere yani y değerlerine ihtiyacımız yok bu nedenle _ şeklinde belirtiyoruz\n",
    "\n",
    "(x_train, _), (x_test, _) = fashion_mnist.load_data()"
   ]
  },
  {
   "cell_type": "code",
   "execution_count": 3,
   "id": "0581a086-e40c-4baf-9279-8c3496b44185",
   "metadata": {},
   "outputs": [
    {
     "data": {
      "image/png": "[encoded data removed]",
      "text/plain": [
       "<Figure size 3000x2400 with 5 Axes>"
      ]
     },
     "metadata": {},
     "output_type": "display_data"
    }
   ],
   "source": [
    "plt.figure(figsize = (30, 24))\n",
    "for i in range(5):\n",
    "    plt.subplot(1, 5, i + 1)\n",
    "    plt.imshow(x_train[i], cmap = \"gray\")\n",
    "    plt.axis(\"off\")\n",
    "\n",
    "plt.show()"
   ]
  },
  {
   "cell_type": "markdown",
   "id": "b9d54597-0b7f-4de5-ac40-e74d58e0fcba",
   "metadata": {},
   "source": [
    "#### 3. Data Preparation:"
   ]
  },
  {
   "cell_type": "code",
   "execution_count": 4,
   "id": "03dcf040-ad4b-4e34-86b4-c69e94fc8e5a",
   "metadata": {},
   "outputs": [],
   "source": [
    "# Normalization \n",
    "\n",
    "x_train = x_train.astype(\"float32\") / 255.0\n",
    "x_test = x_test.astype(\"float32\") / 255.0"
   ]
  },
  {
   "cell_type": "code",
   "execution_count": 5,
   "id": "c78d5918-0360-4130-8dd8-1af614f14f9c",
   "metadata": {},
   "outputs": [],
   "source": [
    "# veriyi düzleştirelim(flaten) 28*28 boyutundaki görüntüleri 784 boyutunda bir vektöre(tek boyutlu bir vektör) dönüştür\n",
    "\n",
    "x_train = x_train.reshape((len(x_train), np.prod(x_train.shape[1:])))\n",
    "x_test = x_test.reshape((len(x_test), np.prod(x_test.shape[1:])))"
   ]
  },
  {
   "cell_type": "code",
   "execution_count": 6,
   "id": "28b6c167-cecc-4c24-b773-1b15b309e180",
   "metadata": {},
   "outputs": [
    {
     "name": "stdout",
     "output_type": "stream",
     "text": [
      "x_train boyutu: (60000, 784)\n",
      "x_test boyutu: (10000, 784)\n"
     ]
    }
   ],
   "source": [
    "print(f\"x_train boyutu: {x_train.shape}\")\n",
    "print(f\"x_test boyutu: {x_test.shape}\")"
   ]
  },
  {
   "cell_type": "markdown",
   "id": "662db1ad-b6cf-444d-a2e4-290c63168b19",
   "metadata": {},
   "source": [
    "#### Modelling:"
   ]
  },
  {
   "cell_type": "code",
   "execution_count": 13,
   "id": "4e742a34-30f7-4053-90f9-6aad1ef57459",
   "metadata": {},
   "outputs": [],
   "source": [
    "# autoencoder için model parametrelerinin tanımlanması \n",
    "\n",
    "input_dim = x_train.shape[1]\n",
    "encoding_dim = 64 # latent boyutu(veriyi sıkıştırdıktan sonra elde ettiğimiz veri parçasının boyutu) \n",
    "\n",
    "\n",
    "# encoder part \n",
    "input_image = Input(shape = (input_dim, )) # girdi boyutunu belirleme 784\n",
    "encoded = Dense(256, activation = \"relu\")(input_image) # ilk gizli katman, 256 nöron\n",
    "encoded = Dense(128, activation = \"relu\")(encoded) # ikinci gizli katman, 128 nöron\n",
    "encoded = Dense(encoding_dim, activation = \"relu\")(encoded) # latent space yani sıkıştırma katmanı\n",
    "\n",
    "# decoder part\n",
    "decoded = Dense(128, activation = \"relu\")(encoded) # ilk genişletme katmanı, 128 nöron\n",
    "decoded = Dense(256, activation = \"relu\")(decoded) # ikinci genişletme katmanı, 256 nöron\n",
    "decoded = Dense(input_dim, activation = \"sigmoid\")(decoded) # çıktı katmanı 784 boyutlu\n",
    "\n",
    "# Autoencoders\n",
    "autoencoder = Model(input_image, decoded)\n",
    "\n",
    "# compile\n",
    "autoencoder.compile(optimizer = Adam(), loss = \"binary_crossentropy\")"
   ]
  },
  {
   "cell_type": "code",
   "execution_count": 14,
   "id": "1b5a8524-3ff3-47b6-bd64-ba5a9d2a5fa7",
   "metadata": {},
   "outputs": [
    {
     "name": "stdout",
     "output_type": "stream",
     "text": [
      "Epoch 1/50\n",
      "\u001b[1m938/938\u001b[0m \u001b[32m━━━━━━━━━━━━━━━━━━━━\u001b[0m\u001b[37m\u001b[0m \u001b[1m7s\u001b[0m 6ms/step - loss: 0.3622 - val_loss: 0.2947\n",
      "Epoch 2/50\n",
      "\u001b[1m938/938\u001b[0m \u001b[32m━━━━━━━━━━━━━━━━━━━━\u001b[0m\u001b[37m\u001b[0m \u001b[1m5s\u001b[0m 5ms/step - loss: 0.2895 - val_loss: 0.2855\n",
      "Epoch 3/50\n",
      "\u001b[1m938/938\u001b[0m \u001b[32m━━━━━━━━━━━━━━━━━━━━\u001b[0m\u001b[37m\u001b[0m \u001b[1m5s\u001b[0m 5ms/step - loss: 0.2819 - val_loss: 0.2815\n",
      "Epoch 4/50\n",
      "\u001b[1m938/938\u001b[0m \u001b[32m━━━━━━━━━━━━━━━━━━━━\u001b[0m\u001b[37m\u001b[0m \u001b[1m5s\u001b[0m 5ms/step - loss: 0.2784 - val_loss: 0.2778\n",
      "Epoch 5/50\n",
      "\u001b[1m938/938\u001b[0m \u001b[32m━━━━━━━━━━━━━━━━━━━━\u001b[0m\u001b[37m\u001b[0m \u001b[1m5s\u001b[0m 5ms/step - loss: 0.2760 - val_loss: 0.2779\n",
      "Epoch 6/50\n",
      "\u001b[1m938/938\u001b[0m \u001b[32m━━━━━━━━━━━━━━━━━━━━\u001b[0m\u001b[37m\u001b[0m \u001b[1m5s\u001b[0m 5ms/step - loss: 0.2735 - val_loss: 0.2751\n",
      "Epoch 7/50\n",
      "\u001b[1m938/938\u001b[0m \u001b[32m━━━━━━━━━━━━━━━━━━━━\u001b[0m\u001b[37m\u001b[0m \u001b[1m5s\u001b[0m 5ms/step - loss: 0.2723 - val_loss: 0.2733\n",
      "Epoch 8/50\n",
      "\u001b[1m938/938\u001b[0m \u001b[32m━━━━━━━━━━━━━━━━━━━━\u001b[0m\u001b[37m\u001b[0m \u001b[1m5s\u001b[0m 5ms/step - loss: 0.2714 - val_loss: 0.2725\n",
      "Epoch 9/50\n",
      "\u001b[1m938/938\u001b[0m \u001b[32m━━━━━━━━━━━━━━━━━━━━\u001b[0m\u001b[37m\u001b[0m \u001b[1m5s\u001b[0m 5ms/step - loss: 0.2702 - val_loss: 0.2722\n",
      "Epoch 10/50\n",
      "\u001b[1m938/938\u001b[0m \u001b[32m━━━━━━━━━━━━━━━━━━━━\u001b[0m\u001b[37m\u001b[0m \u001b[1m5s\u001b[0m 5ms/step - loss: 0.2688 - val_loss: 0.2710\n",
      "Epoch 11/50\n",
      "\u001b[1m938/938\u001b[0m \u001b[32m━━━━━━━━━━━━━━━━━━━━\u001b[0m\u001b[37m\u001b[0m \u001b[1m5s\u001b[0m 5ms/step - loss: 0.2686 - val_loss: 0.2703\n",
      "Epoch 12/50\n",
      "\u001b[1m938/938\u001b[0m \u001b[32m━━━━━━━━━━━━━━━━━━━━\u001b[0m\u001b[37m\u001b[0m \u001b[1m5s\u001b[0m 5ms/step - loss: 0.2676 - val_loss: 0.2697\n",
      "Epoch 13/50\n",
      "\u001b[1m938/938\u001b[0m \u001b[32m━━━━━━━━━━━━━━━━━━━━\u001b[0m\u001b[37m\u001b[0m \u001b[1m5s\u001b[0m 5ms/step - loss: 0.2668 - val_loss: 0.2699\n",
      "Epoch 14/50\n",
      "\u001b[1m938/938\u001b[0m \u001b[32m━━━━━━━━━━━━━━━━━━━━\u001b[0m\u001b[37m\u001b[0m \u001b[1m5s\u001b[0m 6ms/step - loss: 0.2664 - val_loss: 0.2693\n",
      "Epoch 15/50\n",
      "\u001b[1m938/938\u001b[0m \u001b[32m━━━━━━━━━━━━━━━━━━━━\u001b[0m\u001b[37m\u001b[0m \u001b[1m5s\u001b[0m 6ms/step - loss: 0.2668 - val_loss: 0.2691\n",
      "Epoch 16/50\n",
      "\u001b[1m938/938\u001b[0m \u001b[32m━━━━━━━━━━━━━━━━━━━━\u001b[0m\u001b[37m\u001b[0m \u001b[1m5s\u001b[0m 5ms/step - loss: 0.2664 - val_loss: 0.2690\n",
      "Epoch 17/50\n",
      "\u001b[1m938/938\u001b[0m \u001b[32m━━━━━━━━━━━━━━━━━━━━\u001b[0m\u001b[37m\u001b[0m \u001b[1m5s\u001b[0m 5ms/step - loss: 0.2659 - val_loss: 0.2682\n",
      "Epoch 18/50\n",
      "\u001b[1m938/938\u001b[0m \u001b[32m━━━━━━━━━━━━━━━━━━━━\u001b[0m\u001b[37m\u001b[0m \u001b[1m5s\u001b[0m 5ms/step - loss: 0.2656 - val_loss: 0.2681\n",
      "Epoch 19/50\n",
      "\u001b[1m938/938\u001b[0m \u001b[32m━━━━━━━━━━━━━━━━━━━━\u001b[0m\u001b[37m\u001b[0m \u001b[1m5s\u001b[0m 6ms/step - loss: 0.2651 - val_loss: 0.2678\n",
      "Epoch 20/50\n",
      "\u001b[1m938/938\u001b[0m \u001b[32m━━━━━━━━━━━━━━━━━━━━\u001b[0m\u001b[37m\u001b[0m \u001b[1m6s\u001b[0m 6ms/step - loss: 0.2657 - val_loss: 0.2677\n",
      "Epoch 21/50\n",
      "\u001b[1m938/938\u001b[0m \u001b[32m━━━━━━━━━━━━━━━━━━━━\u001b[0m\u001b[37m\u001b[0m \u001b[1m5s\u001b[0m 6ms/step - loss: 0.2652 - val_loss: 0.2674\n",
      "Epoch 22/50\n",
      "\u001b[1m938/938\u001b[0m \u001b[32m━━━━━━━━━━━━━━━━━━━━\u001b[0m\u001b[37m\u001b[0m \u001b[1m5s\u001b[0m 6ms/step - loss: 0.2643 - val_loss: 0.2669\n",
      "Epoch 23/50\n",
      "\u001b[1m938/938\u001b[0m \u001b[32m━━━━━━━━━━━━━━━━━━━━\u001b[0m\u001b[37m\u001b[0m \u001b[1m5s\u001b[0m 6ms/step - loss: 0.2640 - val_loss: 0.2671\n",
      "Epoch 24/50\n",
      "\u001b[1m938/938\u001b[0m \u001b[32m━━━━━━━━━━━━━━━━━━━━\u001b[0m\u001b[37m\u001b[0m \u001b[1m6s\u001b[0m 6ms/step - loss: 0.2645 - val_loss: 0.2668\n",
      "Epoch 25/50\n",
      "\u001b[1m938/938\u001b[0m \u001b[32m━━━━━━━━━━━━━━━━━━━━\u001b[0m\u001b[37m\u001b[0m \u001b[1m5s\u001b[0m 6ms/step - loss: 0.2646 - val_loss: 0.2674\n",
      "Epoch 26/50\n",
      "\u001b[1m938/938\u001b[0m \u001b[32m━━━━━━━━━━━━━━━━━━━━\u001b[0m\u001b[37m\u001b[0m \u001b[1m5s\u001b[0m 6ms/step - loss: 0.2642 - val_loss: 0.2664\n",
      "Epoch 27/50\n",
      "\u001b[1m938/938\u001b[0m \u001b[32m━━━━━━━━━━━━━━━━━━━━\u001b[0m\u001b[37m\u001b[0m \u001b[1m5s\u001b[0m 5ms/step - loss: 0.2644 - val_loss: 0.2666\n",
      "Epoch 28/50\n",
      "\u001b[1m938/938\u001b[0m \u001b[32m━━━━━━━━━━━━━━━━━━━━\u001b[0m\u001b[37m\u001b[0m \u001b[1m5s\u001b[0m 6ms/step - loss: 0.2633 - val_loss: 0.2660\n",
      "Epoch 29/50\n",
      "\u001b[1m938/938\u001b[0m \u001b[32m━━━━━━━━━━━━━━━━━━━━\u001b[0m\u001b[37m\u001b[0m \u001b[1m5s\u001b[0m 6ms/step - loss: 0.2640 - val_loss: 0.2666\n",
      "Epoch 30/50\n",
      "\u001b[1m938/938\u001b[0m \u001b[32m━━━━━━━━━━━━━━━━━━━━\u001b[0m\u001b[37m\u001b[0m \u001b[1m5s\u001b[0m 5ms/step - loss: 0.2624 - val_loss: 0.2659\n",
      "Epoch 31/50\n",
      "\u001b[1m938/938\u001b[0m \u001b[32m━━━━━━━━━━━━━━━━━━━━\u001b[0m\u001b[37m\u001b[0m \u001b[1m5s\u001b[0m 5ms/step - loss: 0.2634 - val_loss: 0.2661\n",
      "Epoch 32/50\n",
      "\u001b[1m938/938\u001b[0m \u001b[32m━━━━━━━━━━━━━━━━━━━━\u001b[0m\u001b[37m\u001b[0m \u001b[1m5s\u001b[0m 5ms/step - loss: 0.2631 - val_loss: 0.2655\n",
      "Epoch 33/50\n",
      "\u001b[1m938/938\u001b[0m \u001b[32m━━━━━━━━━━━━━━━━━━━━\u001b[0m\u001b[37m\u001b[0m \u001b[1m5s\u001b[0m 5ms/step - loss: 0.2638 - val_loss: 0.2658\n",
      "Epoch 34/50\n",
      "\u001b[1m938/938\u001b[0m \u001b[32m━━━━━━━━━━━━━━━━━━━━\u001b[0m\u001b[37m\u001b[0m \u001b[1m5s\u001b[0m 5ms/step - loss: 0.2633 - val_loss: 0.2656\n",
      "Epoch 35/50\n",
      "\u001b[1m938/938\u001b[0m \u001b[32m━━━━━━━━━━━━━━━━━━━━\u001b[0m\u001b[37m\u001b[0m \u001b[1m5s\u001b[0m 5ms/step - loss: 0.2626 - val_loss: 0.2658\n",
      "Epoch 36/50\n",
      "\u001b[1m938/938\u001b[0m \u001b[32m━━━━━━━━━━━━━━━━━━━━\u001b[0m\u001b[37m\u001b[0m \u001b[1m5s\u001b[0m 5ms/step - loss: 0.2631 - val_loss: 0.2656\n",
      "Epoch 37/50\n",
      "\u001b[1m938/938\u001b[0m \u001b[32m━━━━━━━━━━━━━━━━━━━━\u001b[0m\u001b[37m\u001b[0m \u001b[1m5s\u001b[0m 5ms/step - loss: 0.2626 - val_loss: 0.2654\n",
      "Epoch 38/50\n",
      "\u001b[1m938/938\u001b[0m \u001b[32m━━━━━━━━━━━━━━━━━━━━\u001b[0m\u001b[37m\u001b[0m \u001b[1m5s\u001b[0m 5ms/step - loss: 0.2625 - val_loss: 0.2650\n",
      "Epoch 39/50\n",
      "\u001b[1m938/938\u001b[0m \u001b[32m━━━━━━━━━━━━━━━━━━━━\u001b[0m\u001b[37m\u001b[0m \u001b[1m5s\u001b[0m 5ms/step - loss: 0.2625 - val_loss: 0.2652\n",
      "Epoch 40/50\n",
      "\u001b[1m938/938\u001b[0m \u001b[32m━━━━━━━━━━━━━━━━━━━━\u001b[0m\u001b[37m\u001b[0m \u001b[1m5s\u001b[0m 5ms/step - loss: 0.2628 - val_loss: 0.2651\n",
      "Epoch 41/50\n",
      "\u001b[1m938/938\u001b[0m \u001b[32m━━━━━━━━━━━━━━━━━━━━\u001b[0m\u001b[37m\u001b[0m \u001b[1m5s\u001b[0m 5ms/step - loss: 0.2625 - val_loss: 0.2652\n",
      "Epoch 42/50\n",
      "\u001b[1m938/938\u001b[0m \u001b[32m━━━━━━━━━━━━━━━━━━━━\u001b[0m\u001b[37m\u001b[0m \u001b[1m5s\u001b[0m 5ms/step - loss: 0.2620 - val_loss: 0.2650\n",
      "Epoch 43/50\n",
      "\u001b[1m938/938\u001b[0m \u001b[32m━━━━━━━━━━━━━━━━━━━━\u001b[0m\u001b[37m\u001b[0m \u001b[1m5s\u001b[0m 5ms/step - loss: 0.2624 - val_loss: 0.2648\n",
      "Epoch 44/50\n",
      "\u001b[1m938/938\u001b[0m \u001b[32m━━━━━━━━━━━━━━━━━━━━\u001b[0m\u001b[37m\u001b[0m \u001b[1m5s\u001b[0m 5ms/step - loss: 0.2620 - val_loss: 0.2651\n",
      "Epoch 45/50\n",
      "\u001b[1m938/938\u001b[0m \u001b[32m━━━━━━━━━━━━━━━━━━━━\u001b[0m\u001b[37m\u001b[0m \u001b[1m5s\u001b[0m 5ms/step - loss: 0.2620 - val_loss: 0.2650\n",
      "Epoch 46/50\n",
      "\u001b[1m938/938\u001b[0m \u001b[32m━━━━━━━━━━━━━━━━━━━━\u001b[0m\u001b[37m\u001b[0m \u001b[1m5s\u001b[0m 5ms/step - loss: 0.2621 - val_loss: 0.2649\n",
      "Epoch 47/50\n",
      "\u001b[1m938/938\u001b[0m \u001b[32m━━━━━━━━━━━━━━━━━━━━\u001b[0m\u001b[37m\u001b[0m \u001b[1m5s\u001b[0m 5ms/step - loss: 0.2614 - val_loss: 0.2652\n",
      "Epoch 48/50\n",
      "\u001b[1m938/938\u001b[0m \u001b[32m━━━━━━━━━━━━━━━━━━━━\u001b[0m\u001b[37m\u001b[0m \u001b[1m5s\u001b[0m 5ms/step - loss: 0.2613 - val_loss: 0.2647\n",
      "Epoch 49/50\n",
      "\u001b[1m938/938\u001b[0m \u001b[32m━━━━━━━━━━━━━━━━━━━━\u001b[0m\u001b[37m\u001b[0m \u001b[1m5s\u001b[0m 6ms/step - loss: 0.2615 - val_loss: 0.2653\n",
      "Epoch 50/50\n",
      "\u001b[1m938/938\u001b[0m \u001b[32m━━━━━━━━━━━━━━━━━━━━\u001b[0m\u001b[37m\u001b[0m \u001b[1m5s\u001b[0m 5ms/step - loss: 0.2623 - val_loss: 0.2647\n"
     ]
    }
   ],
   "source": [
    "# training\n",
    "history = autoencoder.fit(\n",
    "    x_train, # girdi ve hedef(target) aynı değer olmalı (otonom öğrenme)\n",
    "    x_train,\n",
    "    epochs = 50,\n",
    "    batch_size = 64,\n",
    "    shuffle = True, # eğitim verilerini karıştır\n",
    "    validation_data = (x_test, x_test),\n",
    "    verbose = 1)"
   ]
  },
  {
   "cell_type": "markdown",
   "id": "3b04d602-7cf2-4315-993c-f9b376ec7dbd",
   "metadata": {},
   "source": [
    "- **1.Training Sonuçları:**\n",
    "  - **loss: 0.2618** - **val_loss: 0.2651**\n"
   ]
  },
  {
   "cell_type": "code",
   "execution_count": null,
   "id": "3a09c0cf-1b8b-484e-97e9-a56383732349",
   "metadata": {},
   "outputs": [],
   "source": [
    "# Bu modeli sadece test için tanımladık asıl modelimiz ilki \n",
    "# Modeli biraz daha derinleştirip tekrar eğitelim , sonuçları karşılaştıralım\n",
    "\n",
    "input_dim = x_train.shape[1]\n",
    "encoding_dim = 64 # latent boyutu(veriyi sıkıştırdıktan sonra elde ettiğimiz veri parçasının boyutu) \n",
    "\n",
    "\n",
    "# encoder part \n",
    "input_image = Input(shape = (input_dim, )) # girdi boyutunu belirleme 784\n",
    "encoded = Dense(512, activation = \"relu\")(input_image) # ilk gizli katman, 512 nöron\n",
    "encoded = Dense(256, activation = \"relu\")(encoded) # ikinci gizli katman, 256 nöron\n",
    "encoded = Dense(128, activation = \"relu\")(encoded) # üçüncü gizli katman, 128 nöron\n",
    "encoded = Dense(encoding_dim, activation = \"relu\")(encoded) # latent space yani sıkıştırma katmanı\n",
    "\n",
    "# decoder part\n",
    "decoded = Dense(128, activation = \"relu\")(encoded) # ilk genişletme katmanı, 128 nöron\n",
    "decoded = Dense(256, activation = \"relu\")(decoded) # ikinci genişletme katmanı, 256 nöron\n",
    "decoded = Dense(512, activation = \"relu\")(decoded) \n",
    "decoded = Dense(input_dim, activation = \"sigmoid\")(decoded) # çıktı katmanı 784 boyutlu\n",
    "\n",
    "# Autoencoders\n",
    "autoencoder = Model1(input_image, decoded)\n",
    "\n",
    "# compile\n",
    "autoencoder.compile(optimizer = Adam(), loss = \"binary_crossentropy\")\n",
    "\n",
    "# training\n",
    "history = autoencoder.fit(\n",
    "    x_train, # girdi ve hedef(target) aynı değer olmalı (otonom öğrenme)\n",
    "    x_train,\n",
    "    epochs = 50,\n",
    "    batch_size = 64,\n",
    "    shuffle = True, # eğitim verilerini karıştır\n",
    "    validation_data = (x_test, x_test),\n",
    "    verbose = 1)"
   ]
  },
  {
   "cell_type": "markdown",
   "id": "bf85b211-3577-4e99-a826-31388f213283",
   "metadata": {},
   "source": [
    "- **Karşılaştırma:**\n",
    "- 1. Training Sonuçları:\n",
    "  - loss: 0.2618 - val_loss: 0.2651\n",
    "\n",
    "- 2. Training Sonuçları:\n",
    "  - loss: 0.2613 - val_loss: 0.2655\n",
    " \n",
    "- Sonuçları karşılaştırınca değerlerde kayda değer bir değişim olmadığını görüyoruz. O halde bu veri seti için basit bir model tanımlamak yeterli olacaktır diyebiliriz."
   ]
  },
  {
   "cell_type": "markdown",
   "id": "7b7a4608-f423-407f-8a00-f54bd58b9e05",
   "metadata": {},
   "source": [
    "#### Evaluation:"
   ]
  },
  {
   "cell_type": "code",
   "execution_count": 15,
   "id": "f5b15b64-a5e0-4275-b67a-42bcdaf74bc0",
   "metadata": {},
   "outputs": [],
   "source": [
    "# modeli encoder ve decoder olmak üzere ikiye ayıralım \n",
    "\n",
    "encoder = Model(input_image, encoded)\n",
    "\n",
    "# decoder\n",
    "encoded_input = Input(shape = (encoding_dim,))\n",
    "decoder_layer1 = autoencoder.layers[-3](encoded_input)\n",
    "decoder_layer2 = autoencoder.layers[-2](decoder_layer1)\n",
    "decoder_output = autoencoder.layers[-1](decoder_layer2)\n",
    "\n",
    "decoder = Model(encoded_input, decoder_output)"
   ]
  },
  {
   "cell_type": "code",
   "execution_count": 16,
   "id": "9ae09635-4f1c-4e5d-8f9a-638d412ea945",
   "metadata": {},
   "outputs": [
    {
     "name": "stdout",
     "output_type": "stream",
     "text": [
      "\u001b[1m313/313\u001b[0m \u001b[32m━━━━━━━━━━━━━━━━━━━━\u001b[0m\u001b[37m\u001b[0m \u001b[1m0s\u001b[0m 989us/step\n",
      "\u001b[1m313/313\u001b[0m \u001b[32m━━━━━━━━━━━━━━━━━━━━\u001b[0m\u001b[37m\u001b[0m \u001b[1m0s\u001b[0m 1ms/step  \n"
     ]
    }
   ],
   "source": [
    "# test verisi kullanarak encoder ile sıkıştıralım ve decoder ile yeniden yapılandıralım\n",
    "\n",
    "encoded_images = encoder.predict(x_test) # latent temsili haline getir(sıkıştırma)\n",
    "decoded_images = decoder.predict(encoded_images)# latent temsilinden orijinal formata geri çevirme"
   ]
  },
  {
   "cell_type": "code",
   "execution_count": 20,
   "id": "3c4366f6-9a6e-4067-8d25-db360a202d87",
   "metadata": {},
   "outputs": [
    {
     "data": {
      "image/png": "[encoded data removed]",
      "text/plain": [
       "<Figure size 1500x500 with 20 Axes>"
      ]
     },
     "metadata": {},
     "output_type": "display_data"
    }
   ],
   "source": [
    "# orijinal ve yeniden yapılandırılan(decoded images) görüntüleri görselleştirme\n",
    "\n",
    "n = 10\n",
    "\n",
    "plt.figure(figsize = (15, 5))\n",
    "for i in range(n):\n",
    "    \n",
    "    # orijinal görüntü\n",
    "    ax = plt.subplot(2, n, i + 1)\n",
    "    plt.imshow(x_test[i].reshape(28,28), cmap = \"gray\")\n",
    "    ax.get_xaxis().set_visible(False) # x eksenini gizle\n",
    "    ax.get_yaxis().set_visible(False)\n",
    "\n",
    "    # decoded_images\n",
    "    ax = plt.subplot(2, n, i + 1 + n)\n",
    "    plt.imshow(decoded_images[i].reshape(28,28), cmap = \"gray\")\n",
    "    ax.get_xaxis().set_visible(False) # x eksenini gizle\n",
    "    ax.get_yaxis().set_visible(False)\n",
    "\n",
    "plt.show()"
   ]
  },
  {
   "cell_type": "code",
   "execution_count": 21,
   "id": "eb961c82-f444-44d7-a391-252d82ea2444",
   "metadata": {},
   "outputs": [],
   "source": [
    "# peak-snr: PSNR Metriği\n",
    "\n",
    "def calculate_psnr(original, reconstructed):\n",
    "    \"\"\"\n",
    "    Her iki görüntü arasındaki PSNR hesapla\n",
    "\n",
    "    \"\"\"\n",
    "    mse = np.mean((original - reconstructed)**2)\n",
    "\n",
    "    if mse == 0:\n",
    "        return float(\"inf\") # iki görüntü tamamen aynı ise psnr = sonsuz\n",
    "\n",
    "    max_pixel = 1.0\n",
    "    psnr = 20*np.log10(max_pixel / np.sqrt(mse))\n",
    "    return psnr"
   ]
  },
  {
   "cell_type": "code",
   "execution_count": 22,
   "id": "13a7ab29-8568-4780-b36c-169b500878e2",
   "metadata": {},
   "outputs": [
    {
     "name": "stdout",
     "output_type": "stream",
     "text": [
      "average_psnr: 23.244839512561335\n"
     ]
    }
   ],
   "source": [
    "# test verileri için psnr hesaplama\n",
    "psnr_score = []\n",
    "\n",
    "# ilk 100 örnek için yapalım\n",
    "for i in range(100):\n",
    "    original_img = x_test[i]\n",
    "    reconstructed_img = decoded_images[i]\n",
    "    score = calculate_psnr(original_img, reconstructed_img)\n",
    "    psnr_score.append(score)\n",
    "\n",
    "average_psnr = np.mean(psnr_score)\n",
    "print(f\"average_psnr: {average_psnr}\")"
   ]
  },
  {
   "cell_type": "markdown",
   "id": "a0bbe4dd-e4b6-467b-b6fd-81d1b693567d",
   "metadata": {},
   "source": [
    "- PSNR'ın yüksek çıkması sonuçların iyi çıktığı anlamına gelir."
   ]
  }
 ],
 "metadata": {
  "kernelspec": {
   "display_name": "Python 3 (ipykernel)",
   "language": "python",
   "name": "python3"
  },
  "language_info": {
   "codemirror_mode": {
    "name": "ipython",
    "version": 3
   },
   "file_extension": ".py",
   "mimetype": "text/x-python",
   "name": "python",
   "nbconvert_exporter": "python",
   "pygments_lexer": "ipython3",
   "version": "3.11.7"
  }
 },
 "nbformat": 4,
 "nbformat_minor": 5
}
